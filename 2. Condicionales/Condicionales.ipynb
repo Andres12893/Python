{
  "nbformat": 4,
  "nbformat_minor": 0,
  "metadata": {
    "colab": {
      "provenance": []
    },
    "kernelspec": {
      "name": "python3",
      "display_name": "Python 3"
    },
    "language_info": {
      "name": "python"
    }
  },
  "cells": [
    {
      "cell_type": "markdown",
      "source": [
        "# Condicionales"
      ],
      "metadata": {
        "id": "C9F2TnXz9HeT"
      }
    },
    {
      "cell_type": "markdown",
      "source": [
        "Cuando hablamos de condicionales, hablamos a que debe ejecutar nuestro codigo en funcion de opciones. Python viene con operadores que nos permiten ejecutar estas condiciones, entre ellos, veamos algunos que nos pueden servir para operaciones matematicas:"
      ],
      "metadata": {
        "id": "wV26C7WD9Lsv"
      }
    },
    {
      "cell_type": "code",
      "execution_count": null,
      "metadata": {
        "id": "XdiRG5pm88ls"
      },
      "outputs": [],
      "source": [
        "#   > mayor que\n",
        "#   >= mayor o igual que\n",
        "#   < menor que\n",
        "#   <= menor o igual que\n",
        "#   == igual\n",
        "#   != desigual"
      ]
    },
    {
      "cell_type": "markdown",
      "source": [
        "Es importante recortar que el signo = es para asignar un valor, no es sinonimo de == que implica igual (quizas suena un poco contra intuitivo)"
      ],
      "metadata": {
        "id": "_eyKVf1U95mO"
      }
    },
    {
      "cell_type": "markdown",
      "source": [
        "Siguiendo con nuestros condicionales tenemos algo que todo usuario de excel seguramente vio mas de una vez, que es el condicional **if**. If implica que si ocurre determinado suceso o condicion entonces tiene que suceder otro hecho"
      ],
      "metadata": {
        "id": "NfIMmrqp-cGS"
      }
    },
    {
      "cell_type": "code",
      "source": [
        "# Veamos un ejemplo simple de como escribiriamos en python una clausula if\n",
        "\n",
        "x = int(input('Cual es el valor de x? '))\n",
        "n = int(input('Cual es el valor de n? '))\n",
        "\n",
        "# : se puede leer como entonces, el bloque se leeria de esta forma, si x es menor que n entonces: se muestra en pantalla que x es menor que n\n",
        "if x < n:\n",
        "  # La indentacion es muy importante\n",
        "  print('x es menor que n')"
      ],
      "metadata": {
        "id": "RS6zrKvI-VY_"
      },
      "execution_count": null,
      "outputs": []
    },
    {
      "cell_type": "markdown",
      "source": [
        "Este tipo de expresiones tiene un nombre, y es una expresion booleana. ¿Que quiere decir esto? Esto implica que la expresion retorna verdadero o falso.\n",
        "\n",
        "Ahora, nosotros solamente cubrimos un escenario posible en nuestro ejemplo, que ocurre si n no es mayor que x o en otro caso si n es igual que x? Sumemos esas condiciones a nuestro programa!"
      ],
      "metadata": {
        "id": "b0SsmNeE_0X6"
      }
    },
    {
      "cell_type": "code",
      "source": [
        "if x < n:\n",
        "  print('x es menor que n')\n",
        "if x > n:\n",
        "  print('x es mayor que n')\n",
        "if x == n:\n",
        "  print('x es igual que n')"
      ],
      "metadata": {
        "id": "POqy-kaVAR9f"
      },
      "execution_count": null,
      "outputs": []
    },
    {
      "cell_type": "markdown",
      "source": [
        "Nuestro codigo parece funcionar perfectamente, sin embargo, nuestro programa esta lejos de ser perfecto. Para empezar tengo muchos if, sin importar las condiciones siempre mi programa va a evaluar 3 condiciones, para mejorar esta logica vamos a usar **elif** que vendria a \"saltear un if\" si nuestra condicion previa se cumple, veamos un ejemplo"
      ],
      "metadata": {
        "id": "9G_rdAgsHpNr"
      }
    },
    {
      "cell_type": "code",
      "source": [
        "# Si bien parece similar al anterior, solo seguimos evaluando las condiciones si la condicion previa no se cumplio\n",
        "if x < n:\n",
        "  print('x es menor que n')\n",
        "elif x > n:\n",
        "  print('x es mayor que n')\n",
        "elif x == n:\n",
        "  print('x es igual que n')"
      ],
      "metadata": {
        "id": "TGXVu2J_KtgV"
      },
      "execution_count": null,
      "outputs": []
    },
    {
      "cell_type": "markdown",
      "source": [
        "Para mejorar todavia mas la logica de nuestro programa existe otra keyword **else**, else implica que si alguna de las condiciones pautadas arriba no se cumple, todo entra en esa clausula.\n",
        "\n",
        "Veamos como quedaria nuestro script"
      ],
      "metadata": {
        "id": "hjP5AfSKL8Nc"
      }
    },
    {
      "cell_type": "code",
      "source": [
        "if x < n:\n",
        "  print('x es menor que n')\n",
        "elif x > n:\n",
        "  print('x es mayor que n')\n",
        "#En el else, no necesitamos expresar una condicion ya que todo lo que no entre en la condicion del if o elif va ir al else\n",
        "else:\n",
        "  print('x es igual que n')"
      ],
      "metadata": {
        "id": "qC5pHtZTMJhx"
      },
      "execution_count": null,
      "outputs": []
    },
    {
      "cell_type": "markdown",
      "source": [
        "En nuestro caso solo tenemos 3 posibilidades, que un numero sea mayor a otro, menor a otro o que sea igual, por eso dadas las primeras 2 condiciones, no existe otra mas para else que de no cumplirse estas el numero sea igual"
      ],
      "metadata": {
        "id": "JIyJ4G4yMTW3"
      }
    },
    {
      "cell_type": "markdown",
      "source": [
        "Pensemos ahora en otro approach, imaginemos que solamente queremos saber si x es igual o no que n, para eso vamos a introducir otra keyword **or**."
      ],
      "metadata": {
        "id": "xpGhVC0HMcsN"
      }
    },
    {
      "cell_type": "code",
      "source": [
        "if x  < n or x > n:\n",
        "  print('x es es igual que n')\n",
        "else:\n",
        "  print('x es igual que n')88"
      ],
      "metadata": {
        "id": "HUWIXK4HOZSr"
      },
      "execution_count": null,
      "outputs": []
    },
    {
      "cell_type": "markdown",
      "source": [
        "Si nos pusieramos quisquillosos podriamos mejorar un poquito mas el codigo y quedaría de la siguiente manera"
      ],
      "metadata": {
        "id": "xbSQPofOPVNR"
      }
    },
    {
      "cell_type": "code",
      "source": [
        "if x != n:\n",
        "  print('x es es igual que n')\n",
        "else:\n",
        "  print('x es igual que n')"
      ],
      "metadata": {
        "id": "kdCmHn_FPbB_"
      },
      "execution_count": null,
      "outputs": []
    },
    {
      "cell_type": "markdown",
      "source": [
        "Asi como tenemos la opcion de decir en una condicion que sea una o la otra, tambien podemos decir que sea una y la otra, para eso tenemos el keyword **and**"
      ],
      "metadata": {
        "id": "0dGHYRyHQFgC"
      }
    },
    {
      "cell_type": "markdown",
      "source": [
        "Supongamos que tenemos que armar un programa que en funcion del porcentaje de un examen, nos devuelva una nota.\n",
        "\n",
        "Un ejemplo sería esto:\n",
        "* Entre 95 y 100 -> 10\n",
        "* Entre 88 y 94 -> 9\n",
        "* Entre 80 y 87 -> 8\n",
        "* Entre 75 y 79 -> 7\n",
        "* Entre 70 y 74 -> 6\n",
        "* Entre 65 y 69 -> 5\n",
        "* Entre 60 y 64 -> 4\n",
        "* Entre 0 y 60 -> \"Desaprobado\""
      ],
      "metadata": {
        "id": "mgcaltxoTtok"
      }
    },
    {
      "cell_type": "code",
      "source": [
        "# Empecemos pidiendo la nota\n",
        "nota = int(input('Nota: '))\n",
        "\n",
        "if nota >= 95 and nota <= 100:\n",
        "  print('Nota: 10')\n",
        "elif nota >= 88 and nota < 95:\n",
        " print('Nota: 9')\n",
        "elif nota >= 80 and nota < 88:\n",
        " print('Nota: 8')\n",
        "elif nota >= 75 and nota < 80:\n",
        " print('Nota: 7')\n",
        "elif nota >= 70 and nota < 75:\n",
        " print('Nota: 6')\n",
        "elif nota >= 65 and nota < 70:\n",
        " print('Nota: 5')\n",
        " elif nota >= 60 and nota < 65:\n",
        " print('Nota: 4')\n",
        "else:\n",
        "  print('Nota: Desaprobado')"
      ],
      "metadata": {
        "id": "wwxETUe9QNQC"
      },
      "execution_count": null,
      "outputs": []
    },
    {
      "cell_type": "markdown",
      "source": [
        "Otro operador que podemos utilizar para realizar condicionales matematicos, es el siguiente: **%**.\n",
        "\n",
        "¿Para que lo podemos utilizar? Imaginemos que necesitamos saber si un numero es par o impar, podriamos ver si el resultado de la division nos da un numero entero o no, ese sería un camino, otro camino posible a resolver este interrogante sería mirar el resto de la division, para eso nos sirve %"
      ],
      "metadata": {
        "id": "Le5sPp5AZZFi"
      }
    },
    {
      "cell_type": "code",
      "source": [
        "# Vamos a verlo en la practica\n",
        "x = int(input('Cual es el valor de x? '))\n",
        "\n",
        "# Si el resto de la division entre x y 2 es 0, entonces el numero es par\n",
        "if x % 2 == 0:\n",
        "  print('x es par')\n",
        "else:\n",
        "  print('x no es par')"
      ],
      "metadata": {
        "id": "FF_lgdvBaBkR"
      },
      "execution_count": null,
      "outputs": []
    },
    {
      "cell_type": "markdown",
      "source": [
        "Ahora, digamos que llegaramos a la conclusion de que necesitamos una funcion que nos dijera constantemente si un numero es par o no, para eso podemos escribir funciones"
      ],
      "metadata": {
        "id": "YLd_jlv2bFJN"
      }
    },
    {
      "cell_type": "code",
      "source": [
        "def main():\n",
        "  x = int(input('Cual es el valor de x? '))\n",
        "  # Por ahora voy a imaginarme que tengo una funcion que se llame es_par para resolver esta tarea\n",
        "  if es_par(x):\n",
        "    # Aca lo que hacemos es decir que si la funcion es_par es verdadero entonces tiene que printear \"par\"\n",
        "    print('Par')\n",
        "  else:\n",
        "    print('No es par')\n",
        "# Si quisieramos llamar a main como estamos ahora, tendriamos un error porque es_par todavia no existe, asi que creemosla\n",
        "\n",
        "# El argumento es n para no confundir con x\n",
        "def es_par(n):\n",
        "  if n % 2 == 0:\n",
        "    return True\n",
        "    # Recuerden que True o False es un booleano\n",
        "  else:\n",
        "    return False\n",
        "\n",
        "main()"
      ],
      "metadata": {
        "id": "gcok0XGGbSUi"
      },
      "execution_count": null,
      "outputs": []
    },
    {
      "cell_type": "markdown",
      "source": [
        "Por ultimo, hay otra forma de sintaxis de escribir esto de forma condicional, el keyword que se usa es **match** (esto es como un switch si venis de otro lenguaje de programacion)"
      ],
      "metadata": {
        "id": "9Jk46Oz4eKLb"
      }
    },
    {
      "cell_type": "markdown",
      "source": [
        "Para dar un ejemplo de match, usemos un ejemplo con pokemons, en funcion del nombre devolvamos el tipo"
      ],
      "metadata": {
        "id": "CJFkDkkTeZY6"
      }
    },
    {
      "cell_type": "code",
      "source": [
        "# Primero pidamos el nombre del pokemon\n",
        "nombre = input('Cual es el nombre del pokemon que queres conocer? ')\n",
        "\n",
        "# Armeos nuestra estructura de if/elif/else como vimos hasta ahora, este sería el resultado\n",
        "if nombre == 'Charmander':\n",
        "  print('Fuego')\n",
        "elif nombre == 'Bulbasaur'\n",
        "  print('Planta')\n",
        "elif nombre == 'Squirtle':\n",
        "  print('Agua')\n",
        "else:\n",
        "  print('Pokemon no reconocido')"
      ],
      "metadata": {
        "id": "fVzAVAX9eYG7"
      },
      "execution_count": null,
      "outputs": []
    },
    {
      "cell_type": "markdown",
      "source": [
        "Ahora, usemos match"
      ],
      "metadata": {
        "id": "7DlXu2rhfp_L"
      }
    },
    {
      "cell_type": "code",
      "source": [
        "# Primero pidamos el nombre del pokemon\n",
        "nombre = input('Cual es el nombre del pokemon que queres conocer? ')\n",
        "\n",
        "match nombre:\n",
        "  case 'Charmander':\n",
        "    print('Fuego')\n",
        "  case 'Bulbasaur':\n",
        "    print('Planta')\n",
        "  case 'Squirtle':\n",
        "    print('Agua')\n",
        "  #Si no tenemos un resultado que matchee, podemos usar _ para decirle a python que retorne lo que anteriormente usabamos en el else\n",
        "  case _:\n",
        "    print('Pokemon no reconocido')"
      ],
      "metadata": {
        "id": "KsVb36jafshE"
      },
      "execution_count": null,
      "outputs": []
    },
    {
      "cell_type": "markdown",
      "source": [
        "Ahora, si quisieramos agregar mas pokemon, no hace falta seguir haciendo case y nombre, podemos agregarlos en la misma linea del case utilizando | (lo pueden pensar como un o)"
      ],
      "metadata": {
        "id": "hyYRBmkqgvlj"
      }
    },
    {
      "cell_type": "code",
      "source": [
        "# Primero pidamos el nombre del pokemon\n",
        "nombre = input('Cual es el nombre del pokemon que queres conocer? ')\n",
        "\n",
        "match nombre:\n",
        "  case 'Charmander' | 'Charmileon' | 'Charizard':\n",
        "    print('Fuego')\n",
        "  case 'Bulbasaur':\n",
        "    print('Planta')\n",
        "  case 'Squirtle':\n",
        "    print('Agua')\n",
        "  #Si no tenemos un resultado que matchee, podemos usar _ para decirle a python que retorne lo que anteriormente usabamos en el else\n",
        "  case _:\n",
        "    print('Pokemon no reconocido')"
      ],
      "metadata": {
        "id": "Z-NuRtSvg1pL"
      },
      "execution_count": null,
      "outputs": []
    },
    {
      "cell_type": "markdown",
      "source": [
        "# Ejercicios"
      ],
      "metadata": {
        "id": "85SG6loMyaAH"
      }
    },
    {
      "cell_type": "markdown",
      "source": [
        "Facil: Crea una función llamada comparar_edades que tome dos argumentos enteros: edad1 y edad2. La función debe determinar quién es mayor y devolver una cadena que indique quién es mayor de la siguiente manera: \"Persona 1 es mayor\" o \"Persona 2 es mayor\". Asegúrate de manejar el caso en el que ambas edades son iguales.\n",
        "\n",
        "Podes usar if o match"
      ],
      "metadata": {
        "id": "PN2bxppBybnU"
      }
    },
    {
      "cell_type": "code",
      "source": [
        "def comparar_edades():\n",
        "    pass"
      ],
      "metadata": {
        "id": "zEKf7CBjyeVn"
      },
      "execution_count": null,
      "outputs": []
    },
    {
      "cell_type": "markdown",
      "source": [
        "Intermedio: Escribe una función llamada calcular_promedio que tome una lista de números flotantes llamada numeros. La función debe calcular el promedio de los números en la lista y devolverlo. Asegúrate de que la función maneje el caso en el que la lista esté vacía."
      ],
      "metadata": {
        "id": "eFcOWxVhym_L"
      }
    },
    {
      "cell_type": "code",
      "source": [
        "def calcular_promedio():\n",
        "    pass"
      ],
      "metadata": {
        "id": "7X9dHH98yrXj"
      },
      "execution_count": null,
      "outputs": []
    }
  ]
}