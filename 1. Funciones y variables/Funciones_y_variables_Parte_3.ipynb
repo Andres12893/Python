{
  "nbformat": 4,
  "nbformat_minor": 0,
  "metadata": {
    "colab": {
      "provenance": []
    },
    "kernelspec": {
      "name": "python3",
      "display_name": "Python 3"
    },
    "language_info": {
      "name": "python"
    }
  },
  "cells": [
    {
      "cell_type": "markdown",
      "source": [
        "# Funciones y variables"
      ],
      "metadata": {
        "id": "DbSbsFfNNkKb"
      }
    },
    {
      "cell_type": "markdown",
      "source": [
        "Hasta ahora trabajamos con funciones built-in de python, pero, ¿No creen que sería genial tener la libertad de crear nuestras propias funciones?\n",
        "\n",
        "Para nuestra suerte, esto es posible! Podemos crear cualquier funcion que querramos y son especialmente utiles para encapsular tareas que tenegamos que repetir varias veces"
      ],
      "metadata": {
        "id": "8_iH-WtqNnZP"
      }
    },
    {
      "cell_type": "markdown",
      "source": [
        "Para crear una funcion lo que necesitamos es lo siguiente:\n",
        "\n",
        "\n",
        "1.   Utilizar el keyword **def**\n",
        "2.   Darle un nombre a nuestra funcion\n",
        "3.   Cerrar parentesis y utilizar 2 puntos\n",
        "4.   Escribir lo que debe hacer nuestra funcion\n",
        "\n",
        "Hagamos un ejemplo!\n",
        "\n"
      ],
      "metadata": {
        "id": "QrKat4NUOqtw"
      }
    },
    {
      "cell_type": "code",
      "source": [
        "# Creemos nuestra primera funcion!\n",
        "\n",
        "# El hecho de que los parentesis esten vacios, implica que no le pedimos ningun argumento a nuestra funcion\n",
        "def hola():\n",
        "  # No olvidar la indentacion, sino Python no sabe que es parte de la funcion\n",
        "  print(\"hola\")\n",
        "\n",
        "# Ahora, llamemos a nuestra funcion\n",
        "hola()"
      ],
      "metadata": {
        "id": "rpPtrMbcODxQ"
      },
      "execution_count": null,
      "outputs": []
    },
    {
      "cell_type": "markdown",
      "source": [
        "La funcion hola es bastante basica, les propongo que retomemos nuestro codigo de la primera parte y creemos una funcion que nos permita mejorarlo!"
      ],
      "metadata": {
        "id": "qJnOdU8MPj40"
      }
    },
    {
      "cell_type": "code",
      "source": [
        "# Pedimos el nombre del usuario, removemos los espacios en blanco, pasamos a minusculas y en cada espacio empezamos con una mayuscula\n",
        "nombre = input(\"¿Como te llamas? \").strip().lower().title()\n",
        "\n",
        "# Saludamos al usuario con un hola y su nombre\n",
        "print(f\"Hola {nombre}\")\n",
        "\n",
        "# Ahora manos a la obra\n",
        "\n",
        "def hola(nombre):\n",
        "  nombre = input(\"¿Como te llamas? \").strip().lower().title()\n",
        "  print(f\"Hola {nombre}\")\n",
        "\n",
        "hola(\"andres\")"
      ],
      "metadata": {
        "id": "6JqXLgGNPtAH"
      },
      "execution_count": null,
      "outputs": []
    },
    {
      "cell_type": "markdown",
      "source": [
        "Ahora, ¿Que ocurre si no queremos mostrar algo en pantalla y queremos que nos devuelva un resultado una funcion? Para ello existe **return**"
      ],
      "metadata": {
        "id": "VrhcFGxZSenA"
      }
    },
    {
      "cell_type": "code",
      "source": [
        "# Tomemos como ejemplo nuestra calculadora\n",
        "\n",
        "def suma(x , y):\n",
        "  # De esta forma round redondea hacia el integer mas cercano\n",
        "  suma = round(float(x) + float(y), 2)\n",
        "  return suma\n",
        "\n",
        "suma(3,2)"
      ],
      "metadata": {
        "id": "o-Um7jrDSoez"
      },
      "execution_count": null,
      "outputs": []
    },
    {
      "cell_type": "markdown",
      "source": [
        "# Ejercicios"
      ],
      "metadata": {
        "id": "zvj0m-yxvFdG"
      }
    },
    {
      "cell_type": "markdown",
      "source": [
        "Facil: Escribe un programa que tome dos números como entrada del usuario y muestre la suma de esos dos números en pantalla."
      ],
      "metadata": {
        "id": "Zk_57zuMvM-y"
      }
    },
    {
      "cell_type": "code",
      "source": [
        "# Escribi tu codigo aca"
      ],
      "metadata": {
        "id": "7uQMfejzvQaH"
      },
      "execution_count": null,
      "outputs": []
    },
    {
      "cell_type": "markdown",
      "source": [
        "Intermedio: Escribe un programa que permita a un usuario calcular el área de un círculo. El programa debe solicitar al usuario que ingrese el radio del círculo como entrada y luego calcular y mostrar el área del círculo en pantalla. Utiliza la fórmula del área del círculo: Área = π * radio^2. Puedes aproximar el valor de π a 3.14159."
      ],
      "metadata": {
        "id": "BVCVeJYUvSW-"
      }
    },
    {
      "cell_type": "code",
      "source": [
        "# Escribi tu codigo aca"
      ],
      "metadata": {
        "id": "OyEmaAp5vVIY"
      },
      "execution_count": null,
      "outputs": []
    },
    {
      "cell_type": "markdown",
      "source": [
        "Dificil: Escribe un programa que defina una función llamada calcular_area_circulo(radio) que tome el radio de un círculo como argumento y calcule el área del círculo utilizando la fórmula del área: Área = π * radio^2. Puedes aproximar el valor de π a 3.14159. Luego, pide al usuario que ingrese el radio del círculo y utiliza la función calcular_area_circulo() para calcular y mostrar el área del círculo en pantalla."
      ],
      "metadata": {
        "id": "lCHdGKrTva-j"
      }
    },
    {
      "cell_type": "code",
      "source": [
        "#Escribi tu codigo\n",
        "def calcular_area_circulo():\n",
        "  pass #Borrar pass y reemplazar por tu codigo\n",
        "\n",
        "# Escribi tu codigo\n",
        "def main():\n",
        "  pass #Borrar pass y reemplazar por tu codigo\n",
        "# No borrar\n",
        "if __name__ == \"__main__\":\n",
        "    main()"
      ],
      "metadata": {
        "id": "OxXZYrv6ve63"
      },
      "execution_count": null,
      "outputs": []
    }
  ]
}