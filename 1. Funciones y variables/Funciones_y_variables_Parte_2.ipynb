{
  "nbformat": 4,
  "nbformat_minor": 0,
  "metadata": {
    "colab": {
      "provenance": []
    },
    "kernelspec": {
      "name": "python3",
      "display_name": "Python 3"
    },
    "language_info": {
      "name": "python"
    }
  },
  "cells": [
    {
      "cell_type": "markdown",
      "source": [
        "# Funciones y variables"
      ],
      "metadata": {
        "id": "4kwpH5C3AE8r"
      }
    },
    {
      "cell_type": "markdown",
      "source": [
        "En el notebook pasado aprendimos de funciones y de strings, en este hagamos foco en los **int**.\n",
        "\n",
        "Un int es la representacion de numeros enteros, int viene de INTEGER"
      ],
      "metadata": {
        "id": "zj19fOhAAXz7"
      }
    },
    {
      "cell_type": "markdown",
      "source": [
        "Realicemos algunas operaciones algebraicas!"
      ],
      "metadata": {
        "id": "o5uKys3yFC-S"
      }
    },
    {
      "cell_type": "code",
      "source": [
        "# Suma\n",
        "print(2+2)\n",
        "\n",
        "# Resta\n",
        "print(5-3)\n",
        "\n",
        "# Multiplicacion\n",
        "print(2*2)\n",
        "\n",
        "# Division\n",
        "print(9/3)\n",
        "\n",
        "# Potencia\n",
        "print(2**2)"
      ],
      "metadata": {
        "id": "BmwMX9j2AvGu",
        "colab": {
          "base_uri": "https://localhost:8080/"
        },
        "outputId": "f2be18c0-a528-4f10-a634-a6b8f4799924"
      },
      "execution_count": null,
      "outputs": [
        {
          "output_type": "stream",
          "name": "stdout",
          "text": [
            "4\n",
            "2\n",
            "4\n",
            "3.0\n",
            "4\n"
          ]
        }
      ]
    },
    {
      "cell_type": "markdown",
      "source": [
        "Ahora, podemos ver que la division de 2 numeros enteros, nos da un valor con coma, a este tipo de dato se lo llama **float** o numeros decimales"
      ],
      "metadata": {
        "id": "qxfQ5dm9Fjy1"
      }
    },
    {
      "cell_type": "markdown",
      "source": [
        "¿Que les parece si creamos nuestra propia calculadora?\n",
        "\n",
        "Suena cool, no?"
      ],
      "metadata": {
        "id": "2aTD1lOnFz9j"
      }
    },
    {
      "cell_type": "code",
      "source": [
        "# Comencemos con una primera iteracion de nuestro programa ¿Rercuerdan las variables? Vamos a utilizarlas!\n",
        "\n",
        "primer_valor = 2\n",
        "segundo_valor = 6\n",
        "\n",
        "suma = primer_valor + segundo_valor\n",
        "\n",
        "print(suma)"
      ],
      "metadata": {
        "id": "q4TtZDbUF6Oh",
        "colab": {
          "base_uri": "https://localhost:8080/"
        },
        "outputId": "20c973af-19ba-4397-d7c9-5143690d2997"
      },
      "execution_count": null,
      "outputs": [
        {
          "output_type": "stream",
          "name": "stdout",
          "text": [
            "8\n"
          ]
        }
      ]
    },
    {
      "cell_type": "markdown",
      "source": [
        "Esta primera iteracion quizas no suena para nada interesante, ya que siempre va a sumar 2 + 6, que les parece si le damos un poco de versatilidad a nuestra calculadora y le pedimos al usuario que nos de el valor que quiera!"
      ],
      "metadata": {
        "id": "KVO8UdT-GYO_"
      }
    },
    {
      "cell_type": "code",
      "source": [
        "primer_valor = input(\"Inserte un numero por favor:\")\n",
        "segundo_valor = input(\"Inserte un numero por favor:\")\n",
        "\n",
        "suma = primer_valor + segundo_valor\n",
        "\n",
        "print(suma)"
      ],
      "metadata": {
        "id": "sr0Bsy4eGk1w",
        "colab": {
          "base_uri": "https://localhost:8080/"
        },
        "outputId": "b5382305-401f-4442-bcea-846e6a178c06"
      },
      "execution_count": null,
      "outputs": [
        {
          "output_type": "stream",
          "name": "stdout",
          "text": [
            "Inserte un numero por favor:2\n",
            "Inserte un numero por favor:6\n",
            "26\n"
          ]
        }
      ]
    },
    {
      "cell_type": "markdown",
      "source": [
        "Que extraño, ¿por que creen que nos esta retornando el primer valor y el segundo valor concatenados? Esto se debe a que cuando hacemos el input, estamos insertando el dato en formato de texto, es decir las variables son de tipo string (recuerden que el + cuando hablamos de strings se refiere a concatenar), para asegurarnos de que nuestra calculadora funcione, debemos convertir nuestros valores a int"
      ],
      "metadata": {
        "id": "LxrrUq1oG5S7"
      }
    },
    {
      "cell_type": "code",
      "source": [
        "# Para convertir texto a numero, debemos utilizar la funcion int\n",
        "primer_valor = int(input(\"Inserte un numero por favor:\"))\n",
        "segundo_valor = int(input(\"Inserte un numero por favor:\"))\n",
        "\n",
        "suma = primer_valor + segundo_valor\n",
        "\n",
        "print(suma)"
      ],
      "metadata": {
        "id": "rmsPKcd9HK7A",
        "colab": {
          "base_uri": "https://localhost:8080/"
        },
        "outputId": "61b8b46d-d60d-4624-da0c-ac015c7a3419"
      },
      "execution_count": null,
      "outputs": [
        {
          "output_type": "stream",
          "name": "stdout",
          "text": [
            "Inserte un numero por favor:2\n",
            "Inserte un numero por favor:6\n",
            "8\n"
          ]
        }
      ]
    },
    {
      "cell_type": "markdown",
      "source": [
        "Ahora si! Lo logramos, logramos armar nuestra primera mejora. Es importante recalcar que cuando usamos una funcion dentro de una funcion, la funcion interior es la primera en ejecutar y por ultimo la funcion exterior\n"
      ],
      "metadata": {
        "id": "vlZBs77wIGYd"
      }
    },
    {
      "cell_type": "markdown",
      "source": [
        "Hagamos un stop y hablemos de los floats un poco antes de continuar con nuestra calculadora. Float proviene de floating point value, basicamente es un numero decimal.\n",
        "\n",
        "¿Que pasa si en lugar de llevar nuestro numeros de string a int, los llevasemos de string a float?"
      ],
      "metadata": {
        "id": "7PfTi0kaJ1FM"
      }
    },
    {
      "cell_type": "code",
      "source": [
        "# Para convertir texto a numero decimal, debemos utilizar la funcion float\n",
        "primer_valor = float(input(\"Inserte un numero por favor:\"))\n",
        "segundo_valor = float(input(\"Inserte un numero por favor:\"))\n",
        "\n",
        "suma = primer_valor + segundo_valor\n",
        "\n",
        "print(suma)"
      ],
      "metadata": {
        "id": "YHjbDDMAIP-6",
        "colab": {
          "base_uri": "https://localhost:8080/"
        },
        "outputId": "c5b922a6-e3cd-4480-e082-eb8dd40917e9"
      },
      "execution_count": null,
      "outputs": [
        {
          "output_type": "stream",
          "name": "stdout",
          "text": [
            "Inserte un numero por favor:2\n",
            "Inserte un numero por favor:6\n",
            "8.0\n"
          ]
        }
      ]
    },
    {
      "cell_type": "markdown",
      "source": [
        "De esta forma si nuestro usuario insertase numeros decimales, ahora nuestra calculadora puede realizar operaciones, pero, ¿Que ocurre si nosotros queremos que el resultado final de nuestra cuenta, no sea un numero decimal sino mas bien un numero entero rodondeado?\n",
        "\n",
        "Para lograr este cometido, vamos a utilizar una nueva funciona! Round"
      ],
      "metadata": {
        "id": "xqNEGLvPKhM6"
      }
    },
    {
      "cell_type": "code",
      "source": [
        "# Para convertir texto a numero decimal, debemos utilizar la funcion float\n",
        "primer_valor = float(input(\"Inserte un numero por favor:\"))\n",
        "segundo_valor = float(input(\"Inserte un numero por favor:\"))\n",
        "\n",
        "# De esta forma round redondea hacia el integer mas cercano\n",
        "suma = round(primer_valor + segundo_valor)\n",
        "\n",
        "print(suma)"
      ],
      "metadata": {
        "id": "f-wjFdl8K1re",
        "colab": {
          "base_uri": "https://localhost:8080/"
        },
        "outputId": "edc22c53-601a-4b82-ad46-5bc2ee34897e"
      },
      "execution_count": null,
      "outputs": [
        {
          "output_type": "stream",
          "name": "stdout",
          "text": [
            "Inserte un numero por favor:2.5\n",
            "Inserte un numero por favor:4\n",
            "6\n"
          ]
        }
      ]
    },
    {
      "cell_type": "markdown",
      "source": [
        "Ahora bien, logramos lo que parecia nuestro cometido, pero que pasa si estuvieramos hablando de dinero y queremos ver 2 decimales por si acaso, round nos permite realizar esto con un parametro adicional"
      ],
      "metadata": {
        "id": "_MwJ_SABL3Z0"
      }
    },
    {
      "cell_type": "code",
      "source": [
        "# Para convertir texto a numero decimal, debemos utilizar la funcion float\n",
        "primer_valor = float(input(\"Inserte un numero por favor:\"))\n",
        "segundo_valor = float(input(\"Inserte un numero por favor:\"))\n",
        "\n",
        "# De esta forma round redondea hacia el integer mas cercano\n",
        "suma = round(primer_valor + segundo_valor, 2)\n",
        "\n",
        "print(suma)"
      ],
      "metadata": {
        "id": "wzcq_rr6MCeP",
        "colab": {
          "base_uri": "https://localhost:8080/"
        },
        "outputId": "69e18193-ed9c-460f-80d0-ae65618cd1ee"
      },
      "execution_count": null,
      "outputs": [
        {
          "output_type": "stream",
          "name": "stdout",
          "text": [
            "Inserte un numero por favor:2.5\n",
            "Inserte un numero por favor:4\n",
            "6.5\n"
          ]
        }
      ]
    }
  ]
}