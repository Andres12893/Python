{
  "nbformat": 4,
  "nbformat_minor": 0,
  "metadata": {
    "colab": {
      "provenance": []
    },
    "kernelspec": {
      "name": "python3",
      "display_name": "Python 3"
    },
    "language_info": {
      "name": "python"
    }
  },
  "cells": [
    {
      "cell_type": "markdown",
      "source": [
        "# Funciones y variables"
      ],
      "metadata": {
        "id": "hRL0C6cT-1z9"
      }
    },
    {
      "cell_type": "markdown",
      "source": [
        "Hola!\n",
        "\n",
        "Escribamos nuestro primer programa!"
      ],
      "metadata": {
        "id": "owCPHxjfm79p"
      }
    },
    {
      "cell_type": "code",
      "execution_count": null,
      "metadata": {
        "id": "S12g2VgBeHMp"
      },
      "outputs": [],
      "source": [
        "print(\"Hola Mundo!\")"
      ]
    },
    {
      "cell_type": "markdown",
      "source": [
        "Genial! No?\n",
        "\n",
        "Hablemos un poco de lo que acaba de pasar, para realizar esta tarea utilizamos la funcion \"print\" (las funciones tienen similudes con excel por ejemplo, donde llamamos a una funcion que determinado fin, le pasamos los argumentos y la funcion cumple una determinada tarea)\n",
        "\n",
        "Ahora, que les parece si hacemos un poco mas interactivo nuestro codigo, pidiendole a un usuario que nos cuente como se llama"
      ],
      "metadata": {
        "id": "zLKUxemtoO0p"
      }
    },
    {
      "cell_type": "code",
      "source": [
        "input(\"¿Como te llamas? \")\n",
        "print(\"Hola Mundo!\")"
      ],
      "metadata": {
        "id": "h6GmYxqboOSj"
      },
      "execution_count": null,
      "outputs": []
    },
    {
      "cell_type": "markdown",
      "source": [
        "Ahora, lo que nosotros necesitamos es versatilidad en la respuesta, ahi es donde entra un concepto clave, las **variables**, para entender este concepto, pueden imaginarse una caja donde podamos guardar lo que nosotros querramos"
      ],
      "metadata": {
        "id": "iMXmv5UYpOeX"
      }
    },
    {
      "cell_type": "code",
      "source": [
        "nombre = input(\"¿Como te llamas? \")\n",
        "print(\"Hola \" + nombre)"
      ],
      "metadata": {
        "id": "I1_FAggPpYTp"
      },
      "execution_count": null,
      "outputs": []
    },
    {
      "cell_type": "markdown",
      "source": [
        "Ahora que logramos nuestro cometido, organicemos un poco nuestro programa, que pasa si dentro de un tiempo compartiesemos nuestro codigo con un colega y este quisiera entender que hace nuestro codigo, en la medida en la que pasa el tiempo nosotros necesitamos apelar a nuestra memoria, para ahorrarnos este tedioso momento existen los **Comentarios**"
      ],
      "metadata": {
        "id": "CDpr8zQRsFSX"
      }
    },
    {
      "cell_type": "code",
      "source": [
        "# Pedimos el nombre del usuario\n",
        "nombre = input(\"¿Como te llamas? \")\n",
        "\n",
        "# Saludamos al usuario con un hola y su nombre\n",
        "print(f\"Hola {nombre}\") #f de format el string\n",
        "\n",
        "# Otra forma de hacer lo mismo\n",
        "print(\"Hola \" + nombre) # concatenar\n",
        "\n",
        "# Otra forma de hacer lo mismo\n",
        "print(\"Hola\", nombre)\n",
        "\n",
        "# Otra forma de hacer lo mismo\n",
        "print(\"Hola \", end=\"\") #Por default el parametro es end ='\\n'\n",
        "print(nombre)"
      ],
      "metadata": {
        "id": "AE-xbIdUsWnW"
      },
      "execution_count": null,
      "outputs": []
    },
    {
      "cell_type": "markdown",
      "source": [
        "Mas arriba en uno de los comentarios, mencione la palabra **String**, un string es basicamente texto.\n",
        "\n",
        "Los strings vienen en Python con muchisimos metodos built-in, es decir con muchas funciones que cualquier usuario de python puede utilizar\n",
        "\n",
        "Veamos algunos!"
      ],
      "metadata": {
        "id": "tOeQeP6AsgLx"
      }
    },
    {
      "cell_type": "code",
      "source": [
        "# Imaginemos que el usuario no coopera mucho con nuestro programa y nos pone muchos espacios delante de su nombre, algo asi:\n",
        "nombre = input(\"¿Como te llamas? \")\n",
        "print(f\"Hola {nombre}\")"
      ],
      "metadata": {
        "id": "w3Tvjjs-9Zv9"
      },
      "execution_count": null,
      "outputs": []
    },
    {
      "cell_type": "code",
      "source": [
        "# Esto no se ve muy amigable, para corregir esto existe el metodo strip (strip es una funcion), que nos permite eliminar todos los espacios en blanco que tengamos delante, nuestro programa se vería asi:\n",
        "\n",
        "# Pedimos el nombre del usuario\n",
        "nombre = input(\"¿Como te llamas? \")\n",
        "\n",
        "# Removemos los espacios en blanco\n",
        "nombre = nombre.strip()\n",
        "\n",
        "# Saludamos al usuario con un hola y su nombre\n",
        "print(f\"Hola {nombre}\")"
      ],
      "metadata": {
        "id": "WSt2c9LO-IvM"
      },
      "execution_count": null,
      "outputs": []
    },
    {
      "cell_type": "markdown",
      "source": [
        "¿Que ocurriria, si un usuario nos ingreso su nombre de esta forma?\n",
        "\n",
        "aNdReS\n",
        "\n",
        "Esto se vería feo en pantalla, asi que lo que podemos hacer es optar por pasar a mayuscula todo el nombre, de esta forma nuestro programa ahora se vería asi:"
      ],
      "metadata": {
        "id": "VQ1xOXjL_Fy7"
      }
    },
    {
      "cell_type": "code",
      "source": [
        "# Pedimos el nombre del usuario\n",
        "nombre = input(\"¿Como te llamas? \")\n",
        "\n",
        "# Removemos los espacios en blanco\n",
        "nombre = nombre.strip()\n",
        "\n",
        "# Capitalizamos el nombre del usuario\n",
        "nombre = nombre.upper()\n",
        "\n",
        "# Saludamos al usuario con un hola y su nombre\n",
        "print(f\"Hola {nombre}\")"
      ],
      "metadata": {
        "id": "p_8LJXzr_XJh"
      },
      "execution_count": null,
      "outputs": []
    },
    {
      "cell_type": "markdown",
      "source": [
        "Tambien podriamos ir por el approach contrario, decidir llevar todo a minusculas"
      ],
      "metadata": {
        "id": "-MyZNowPBQRU"
      }
    },
    {
      "cell_type": "code",
      "source": [
        "# Pedimos el nombre del usuario\n",
        "nombre = input(\"¿Como te llamas? \")\n",
        "\n",
        "# Removemos los espacios en blanco\n",
        "nombre = nombre.strip()\n",
        "\n",
        "# Capitalizamos el nombre del usuario\n",
        "nombre = nombre.lower()\n",
        "\n",
        "# Saludamos al usuario con un hola y su nombre\n",
        "print(f\"Hola {nombre}\")"
      ],
      "metadata": {
        "id": "-KgYBJ6OBWuf"
      },
      "execution_count": null,
      "outputs": []
    },
    {
      "cell_type": "markdown",
      "source": [
        "Por ultimo, podríamos reducir la cantidad de lineas que utilizamos y asegurarnos de dejar lo mas prolijo nuestra respuesta"
      ],
      "metadata": {
        "id": "IhEzmjacBatt"
      }
    },
    {
      "cell_type": "code",
      "source": [
        "# Pedimos el nombre del usuario, removemos los espacios en blanco, pasamos a minusculas y en cada espacio empezamos con una mayuscula\n",
        "nombre = input(\"¿Como te llamas? \").strip().lower().title()\n",
        "\n",
        "# Saludamos al usuario con un hola y su nombre\n",
        "print(f\"Hola {nombre}\")"
      ],
      "metadata": {
        "id": "SZstJJyQByQ7"
      },
      "execution_count": null,
      "outputs": []
    }
  ]
}