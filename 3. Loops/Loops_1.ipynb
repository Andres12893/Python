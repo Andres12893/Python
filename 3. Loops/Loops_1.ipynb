{
  "nbformat": 4,
  "nbformat_minor": 0,
  "metadata": {
    "colab": {
      "provenance": []
    },
    "kernelspec": {
      "name": "python3",
      "display_name": "Python 3"
    },
    "language_info": {
      "name": "python"
    }
  },
  "cells": [
    {
      "cell_type": "markdown",
      "source": [
        "# Loops - 1\n"
      ],
      "metadata": {
        "id": "8Xn6-3y_ExFQ"
      }
    },
    {
      "cell_type": "markdown",
      "source": [
        "¿Que es un loop? Podriamos decir que un loop es un circulo o bucle que se repite al infinito.\n",
        "\n",
        "Empecemos por imaginar que somos fanaticos de Thor y queremos gritar 3 veces Thor!, si fueramos por lo que conocemos hasta ahora, podriamos ir por este camino"
      ],
      "metadata": {
        "id": "toa5p1CeFEmi"
      }
    },
    {
      "cell_type": "code",
      "execution_count": null,
      "metadata": {
        "id": "8skdBRWHEuXw"
      },
      "outputs": [],
      "source": [
        "print('Thor!!!')\n",
        "print('Thor!!!')\n",
        "print('Thor!!!')"
      ]
    },
    {
      "cell_type": "markdown",
      "source": [
        "Ahora, como siempre, podemos mejorar nuestro programa, para trabajar con este tipo de tareas entran los loops. Arranquemos con nuestra primer keyword **while**.\n",
        "\n",
        "While vendría a decir \"*mientras*\", en logica lo leeriamos como: mientras se cumpla esta condicion tiene que pasar esto (recordemos los booleanos, ya que para que se cumpla esto, la condicion debe ser verdadera o falsa)"
      ],
      "metadata": {
        "id": "J0mtX8kqG0lC"
      }
    },
    {
      "cell_type": "markdown",
      "source": [
        "Como podriamos resolver esto en codigo? Les propongo lo siguiente, imaginemos que la meta es alabar al dios del trueno 3 veces, podriamos levantar 3 dedos de nuestra mano y cada vez que lo alabamos bajamos uno.\n",
        "\n",
        "Veamos esto en forma practica"
      ],
      "metadata": {
        "id": "XUB8XOHOHkqc"
      }
    },
    {
      "cell_type": "code",
      "source": [
        "# Arranquemos con una variable, supongamos de nombre n para indicar un numero\n",
        "# Imaginemos que n son nuestros 3 dedos levantados\n",
        "n = 3\n",
        "\n",
        "# Ahora intruduzcamos while, si bien parece que nos alcanza con la condicion de que n sea distinto de 0, nuestro loop quedaría al infinito ya que al ser n 3 nunca puede ser 0, por ende es un bucle sin fin\n",
        "# Tengamos muchisimo cuidado con los bucles sin fin, ya que ejecutara hasta que nos quedemos sin memoria\n",
        "while n != 0:\n",
        "  print('Thor!!!')\n",
        "  # Para resolver esto, lo que podemos hacer sería restar un digito a n para simular que bajamos un dedo\n",
        "  n = n - 1\n",
        "  # Si tenemos dudas del valor de n, podriamos hacer un print(n) e ir viendo los resultados"
      ],
      "metadata": {
        "id": "dz_KFKBvHxsT"
      },
      "execution_count": null,
      "outputs": []
    },
    {
      "cell_type": "code",
      "source": [
        "# Podriamos tambien pensarlo de otra forma, como que no tenemos ningun dedo levantado y lo hacemos hasta llegar a 3 por cada thor que gritemos\n",
        "n = 0\n",
        "while n < 3:\n",
        "  print('Thor!!!')\n",
        "  n = n + 1"
      ],
      "metadata": {
        "id": "K9fTSl0rlXhf"
      },
      "execution_count": null,
      "outputs": []
    },
    {
      "cell_type": "markdown",
      "source": [
        "Vayamos ahora hacia otro tipo de loop, los **for**, estos for loops nos van a permitir hacer cosas distintas a los while loops.\n",
        "\n",
        "Antes de adentrarnos de lleno en estos tipos de loops, veamos un nuevo tipo de dato: **listas**\n",
        "\n",
        "Las listas por suerte, son bastate similares a una lista del supermercado. Son basicmaente estructuras que nos permiten tener varias cosas dentro de un solo objeto\n",
        "\n",
        "Veamos estos nuevos conceptos con un ejemplo"
      ],
      "metadata": {
        "id": "24uVaGg6mmrd"
      }
    },
    {
      "cell_type": "code",
      "source": [
        "#Volvamos al caso de Thor, digamos thor 3 veces usando for loops\n",
        "\n",
        "# Una lista esta definida con [], en nuestro ejemplo podemos pensar a la lista como la cantidad de dedos que tenemos levantados\n",
        "#En la primera iteracion no tenemos ningun dedo levantado, en la segunda 1 y en la siguiente 2\n",
        "for n in [0,1,2]:\n",
        "  print('Thor!!!')"
      ],
      "metadata": {
        "id": "UbRI6mshnoik"
      },
      "execution_count": null,
      "outputs": []
    },
    {
      "cell_type": "markdown",
      "source": [
        "A priori, esto parece bastante mejor que un while loop, menos codigo y mas leible, ahora que pasa si en lugar de querer gritar thor 3 veces, quiero hacerlo 1 millon de veces, se nos pone un poco dificil escribir todos los numeros, no?\n",
        "\n",
        "Para solucionar esto, podemos usar una funcion built-in llamada **range**"
      ],
      "metadata": {
        "id": "qCUM1tjkpBlx"
      }
    },
    {
      "cell_type": "code",
      "source": [
        "# Range espera que le pasamos un valor, que sería la cantidad de numeros que queremos armar\n",
        "for n in range(3):\n",
        "  print('Thor!!!')\n",
        "\n",
        "# Si quisieramos gritar thor 10 veces, es tan sencillo como cambiar el argumento de 3 a 10\n",
        "for n in range(10):\n",
        "  print('Thor!!!')"
      ],
      "metadata": {
        "id": "HRYoNFv_pitt"
      },
      "execution_count": null,
      "outputs": []
    },
    {
      "cell_type": "markdown",
      "source": [
        "Digamos que queremos ahora, como venimos haciendo, de pedirle al usuario que inserte cuantas veces quiere gritar thor, lo que tendríamos que asegurarnos es que el numero que inserta tiene que ser positivo, para ello podriamos pensar esto en un loop"
      ],
      "metadata": {
        "id": "HVTgNpVgp75E"
      }
    },
    {
      "cell_type": "code",
      "source": [
        "# Tengamos muchisimo cuidado cuando escribimos while True, ya que si no especificamos una condicion negativa, tendremos un bucle infinito\n",
        "while True:\n",
        "  n = int(input('¿Cuantas veces gritamos? '))\n",
        "  if n < 0:\n",
        "    # Continue, implica que si se cumple la condicion, vuelva a loopear\n",
        "    # En nuestro caso implica que preguntamos nuevamente cuantas veces gritamos\n",
        "    continue\n",
        "  else:\n",
        "    # Break sirve para romper el loop\n",
        "    # En nuestra logica, al ser n un numero mayor a 0, entramos en la condicion del else, rompiendo el loop\n",
        "    break"
      ],
      "metadata": {
        "id": "JVSaZLKRtkt6"
      },
      "execution_count": null,
      "outputs": []
    },
    {
      "cell_type": "code",
      "source": [
        "# Si bien nuestra logica de arriba funciona bien, podriamos acortar la cantidad de lineas de esta manera:\n",
        "while True:\n",
        "  n = int(input('¿Cuantas veces gritamos? '))\n",
        "  if n > 0:\n",
        "    # Como n evetualmente va a ser positivo, se rompe el loop\n",
        "    break"
      ],
      "metadata": {
        "id": "CKwyzjN0uYu5"
      },
      "execution_count": null,
      "outputs": []
    },
    {
      "cell_type": "code",
      "source": [
        "# Resolviendo el interrogante planteado, ahora tenemos que volver a usar un loop para que el usuario vea la cantidad de veces que gritamos thor\n",
        "while True:\n",
        "  n = int(input('¿Cuantas veces gritamos? '))\n",
        "  if n > 0:\n",
        "    break\n",
        "\n",
        "for i in range(n):\n",
        "  print('Thor!!!')"
      ],
      "metadata": {
        "id": "wra8YUc2usCT"
      },
      "execution_count": null,
      "outputs": []
    },
    {
      "cell_type": "markdown",
      "source": [
        "Ahora, no les parece que esta es una tarea que quisas puede ser recurrente? Para mi si, entonces lo ideal seria armar una funcion que nos permita completar nuestra tarea"
      ],
      "metadata": {
        "id": "hkbdl8P_v6oP"
      }
    },
    {
      "cell_type": "code",
      "source": [
        "def main():\n",
        "  numero = conseguir_numero()\n",
        "  grito(numero)\n",
        "\n",
        "def conseguir_numero():\n",
        "  while True:\n",
        "   n = int(input('¿Cuantas veces gritamos? '))\n",
        "   if n > 0:\n",
        "     return n\n",
        "\n",
        "def grito(n):\n",
        "  for i in range(n):\n",
        "    print('Thor!!!')\n",
        "\n",
        "main()"
      ],
      "metadata": {
        "id": "Zexz65DewMk9"
      },
      "execution_count": null,
      "outputs": []
    }
  ]
}