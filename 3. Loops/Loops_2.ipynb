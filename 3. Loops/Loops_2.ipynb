{
  "nbformat": 4,
  "nbformat_minor": 0,
  "metadata": {
    "colab": {
      "provenance": []
    },
    "kernelspec": {
      "name": "python3",
      "display_name": "Python 3"
    },
    "language_info": {
      "name": "python"
    }
  },
  "cells": [
    {
      "cell_type": "markdown",
      "source": [
        "# Loops - 2"
      ],
      "metadata": {
        "id": "7AuHYLixxj2a"
      }
    },
    {
      "cell_type": "markdown",
      "source": [
        "En el notebook anterior, nos familiarizamos bastante con los conceptos de while y for, en este notebook comencemos tratando mas con las listas.\n",
        "\n",
        "Como me gustan los pokemon, comencemos creando una lista con nombre de los mismos"
      ],
      "metadata": {
        "id": "GxpohJPZxpV8"
      }
    },
    {
      "cell_type": "code",
      "execution_count": null,
      "metadata": {
        "id": "L5WogcLiximN"
      },
      "outputs": [],
      "source": [
        "pokemons = ['Charmander','Bulbasaur','Squirtle']\n",
        "\n",
        "print(pokemons)"
      ]
    },
    {
      "cell_type": "markdown",
      "source": [
        "Que ocurre, si en lugar de querer mostrar todos mis pokemon, quiero unicamente mostrar el primero, despues el segundo y despues el tercero? Para ello podemos usar otra vez [] en el print.\n",
        "\n",
        "Es importante recalcar que para que esto funcione, mis pokemon tienen que estar adentro de una variable (lo que estamos haciendo es llamar al index de la variable)"
      ],
      "metadata": {
        "id": "t8C7GiCH1a0F"
      }
    },
    {
      "cell_type": "code",
      "source": [
        "pokemons = ['Charmander','Bulbasaur','Squirtle']\n",
        "\n",
        "# El primer pokemon en una lista comienza con el index 0\n",
        "print(pokemons[0])\n",
        "print(pokemons[1])\n",
        "print(pokemons[2])"
      ],
      "metadata": {
        "id": "paYq97_p1tzR"
      },
      "execution_count": null,
      "outputs": []
    },
    {
      "cell_type": "markdown",
      "source": [
        "A priori esto parece que funciona genial, pero que ocurre si yo no conozco la longitud de la linea o no se en que posicion esta el pokemon que estoy buscando?\n",
        "\n",
        "Aca es donde entran los loops"
      ],
      "metadata": {
        "id": "nSXFPvf51-1x"
      }
    },
    {
      "cell_type": "code",
      "source": [
        "pokemons = ['Charmander','Bulbasaur','Squirtle']\n",
        "\n",
        "# Recuerden que podemos usar el nombre que querramos, podria haberle puesto n y hubiera funcionado igual\n",
        "# A drede le puse pokemon y pokemons para que mi codigo sea mas prolijo\n",
        "\n",
        "for pokemon in pokemons:\n",
        "  print(pokemon)"
      ],
      "metadata": {
        "id": "Gprbem2X2Lhp"
      },
      "execution_count": null,
      "outputs": []
    },
    {
      "cell_type": "markdown",
      "source": [
        "Para variar un poco, pensemos en terminos de numeros y no de strings"
      ],
      "metadata": {
        "id": "Y0-FibwG3B08"
      }
    },
    {
      "cell_type": "code",
      "source": [
        "pokemons = ['Charmander','Bulbasaur','Squirtle']\n",
        "\n",
        "# Aca no podemos usar range, ya que range espera un numero y nosotros tenemos texto\n",
        "# Para esto, tenemos otra funcion built-in llamada len\n",
        "# Len nos dira la longitud de una lista\n",
        "for i in range(len(pokemons)):\n",
        "  # Recuerde que ahora estamos pensando en terminos de posicion, no de nombre\n",
        "  print(pokemons[i])\n",
        "\n",
        "# Imaginemo ahora, que a demas de querer saber el nombre del pokemon, queremos saber su orden en la lista, esto lo podriamos lograr de esta forma:\n",
        "for i in range(len(pokemons)):\n",
        "  print(i, pokemons[i])\n",
        "\n",
        "# Si nos molesta que Charmander sea el pokemon 0, lo que podemos hacer es sumar un valor a todos nuestros pokemons:\n",
        "for i in range(len(pokemons)):\n",
        "  print(i + 1, pokemons[i])"
      ],
      "metadata": {
        "id": "nPmLVmXh3FAp"
      },
      "execution_count": null,
      "outputs": []
    },
    {
      "cell_type": "markdown",
      "source": [
        "Antes de que combinemos todo lo visto, les propongo que veamos un tipo de dato nuevo **diccionarios** (tambien conocidos como dict)\n",
        "\n",
        "Lo podemos pensar como un diccionario en la vida real, buscamos una palabra y tenemos una respuesta de que es, llevado mas a programacion, lo podemos pensar como un conjunto de pares, una clave y un valor"
      ],
      "metadata": {
        "id": "R-g0cDL54oDQ"
      }
    },
    {
      "cell_type": "markdown",
      "source": [
        "Volviendo a nuestro ejemplo, que pasa si queremos ademas de saber el nombre de cada pokemon, queremos saber cual es su tipo? Primero veamos como hacer esto en listas y luego incorporemos nuestro nuevo conocimiento de diccionarios"
      ],
      "metadata": {
        "id": "_0Tc05qf5HMw"
      }
    },
    {
      "cell_type": "code",
      "source": [
        "# Listas\n",
        "pokemons = ['Charmander','Bulbasaur','Squirtle']\n",
        "# Es importante recalcar que asumimos que el primer pokemon corresponde al primer valor de la lista de tipos\n",
        "# Esta asuncion es un gran if porque puede caerse a pedazos muy rapido, cundo querramos incorporar mas pokemons y tipos a nuestra listas\n",
        "tipos = ['Fuego','Planta','Agua']"
      ],
      "metadata": {
        "id": "quwZb1XI4x3k"
      },
      "execution_count": null,
      "outputs": []
    },
    {
      "cell_type": "code",
      "source": [
        "# Diccionarios\n",
        "\n",
        "# No es necesaria la tabulacion, yo prefiero tenerlo asi ya que es mas claro\n",
        "pokemons = {\n",
        "    'Charmander':'Fuego',\n",
        "    'Bulbasaur':'Planta',\n",
        "    'Squirtle':'Agua'\n",
        "    }\n",
        "\n",
        "# Si queremos mostrar en pantalla nuestro primer pokemon, lo podemos hacer de esta forma\n",
        "print(pokemons)\n",
        "\n",
        "# Si quisieramos a que tipo corresponde cada pokemon, podriamos hacerlo de esta forma\n",
        "print(pokemons['Charmander'])\n",
        "print(pokemons['Bulbasaur'])\n",
        "print(pokemons['Squirtle'])"
      ],
      "metadata": {
        "id": "ByB5IW6O54wz"
      },
      "execution_count": null,
      "outputs": []
    },
    {
      "cell_type": "markdown",
      "source": [
        "Hasta ahora parece todo bastante manual, asi que vayamos por una solucion un poco mas escalable"
      ],
      "metadata": {
        "id": "u6kgmjF352Ey"
      }
    },
    {
      "cell_type": "code",
      "source": [
        "pokemons = {\n",
        "    'Charmander':'Fuego',\n",
        "    'Bulbasaur':'Planta',\n",
        "    'Squirtle':'Agua'\n",
        "    }\n",
        "\n",
        "# Cuando hacemos un for por default python itera sobre las claves\n",
        "for pokemon in pokemons:\n",
        "  print(pokemon)\n",
        "\n",
        "# Esto a priori no parece tan util, ya que queremos mas detalle de nuestros pokemon\n",
        "for pokemon in pokemons:\n",
        "  print(pokemon, pokemons[pokemon], sep= ', ')\n",
        "\n",
        "# Otra forma de hacer lo mismo\n",
        "for k, v in pokemons.items():\n",
        "    print(k, v)"
      ],
      "metadata": {
        "id": "iZMmHyWC8SKz",
        "colab": {
          "base_uri": "https://localhost:8080/"
        },
        "outputId": "5737301c-4070-4f27-90bd-25100792932a"
      },
      "execution_count": 5,
      "outputs": [
        {
          "output_type": "stream",
          "name": "stdout",
          "text": [
            "Charmander\n",
            "Bulbasaur\n",
            "Squirtle\n",
            "Charmander, Fuego\n",
            "Bulbasaur, Planta\n",
            "Squirtle, Agua\n",
            "Charmander Fuego\n",
            "Bulbasaur Planta\n",
            "Squirtle Agua\n"
          ]
        }
      ]
    },
    {
      "cell_type": "markdown",
      "source": [
        "Escalemos un poco mas todavia, que pasa si quisieramos tener mas data de nuestros pokemon, como por ejemplo a que evoluciona o sus estadisticas?\n"
      ],
      "metadata": {
        "id": "5R82b_fH91sy"
      }
    },
    {
      "cell_type": "code",
      "source": [
        "# Podemos arrancar pensando en una lista de diccionarios ¿Que quiere decir esto?\n",
        "# Que cada pokemon en si sera un diccionario\n",
        "\n",
        "pokemons = [\n",
        "    # Creamos un diccionario por pokemon\n",
        "    {'Nombre':'Charmander', 'Tipo':'Fuego', 'Tipo secundario': None ,'hp':39},\n",
        "    # None es una keyword que implica la ausencia de un valor\n",
        "    {'Nombre':'Bulbasaur', 'Tipo':'Planta', 'Tipo secundario': 'Veneno' ,'hp':45},\n",
        "    {'Nombre':'Squirtle', 'Tipo':'Agua', 'Tipo secundario': None,'hp':44}\n",
        "]"
      ],
      "metadata": {
        "id": "Jzfklsfy-r2Y"
      },
      "execution_count": null,
      "outputs": []
    },
    {
      "cell_type": "markdown",
      "source": [
        "De esta forma, parece que realmente tenemos un diccionario, no? Si buscamos charmander tendremos todos sus datos, es importante recalcar que en el diccionario de charmander, tenemos 4 claves y 4 valores"
      ],
      "metadata": {
        "id": "plOvC9lY_zYc"
      }
    },
    {
      "cell_type": "code",
      "source": [
        "pokemons = [\n",
        "    # Creamos un diccionario por pokemon\n",
        "    {'Nombre':'Charmander', 'Tipo':'Fuego', 'Tipo secundario': None ,'hp':39},\n",
        "    # None es una keyword que implica la ausencia de un valor\n",
        "    {'Nombre':'Bulbasaur', 'Tipo':'Planta', 'Tipo secundario': 'Veneno' ,'hp':45},\n",
        "    {'Nombre':'Squirtle', 'Tipo':'Agua', 'Tipo secundario': None,'hp':44}\n",
        "]\n",
        "\n",
        "# Vayamos por partes, veamos como ver los nombres\n",
        "for pokemon in pokemons:\n",
        "  print(pokemon['Nombre'])\n",
        "\n",
        "# Pidamos ahora, mas datos\n",
        "for pokemon in pokemons:\n",
        "  print(pokemon['Nombre'], pokemon['Tipo'], sep= ', ')\n",
        "\n",
        "# Otra forma\n",
        "for pokemon in pokemons:\n",
        "  nombre = pokemon['Nombre']\n",
        "  tipo = pokemon['Tipo']\n",
        "  tipo_secundario = pokemon['Tipo secundario']\n",
        "  hp = pokemon['hp']\n",
        "  print(f\"{nombre}:{tipo} {tipo_secundario} {hp}\")"
      ],
      "metadata": {
        "id": "YYzy96Mc_7z1",
        "colab": {
          "base_uri": "https://localhost:8080/"
        },
        "outputId": "04262cfc-c296-4596-d73e-62b704d7849e"
      },
      "execution_count": 9,
      "outputs": [
        {
          "output_type": "stream",
          "name": "stdout",
          "text": [
            "Charmander\n",
            "Bulbasaur\n",
            "Squirtle\n",
            "Charmander, Fuego\n",
            "Bulbasaur, Planta\n",
            "Squirtle, Agua\n",
            "Charmander:Fuego None 39\n",
            "Bulbasaur:Planta Veneno 45\n",
            "Squirtle:Agua None 44\n"
          ]
        }
      ]
    },
    {
      "cell_type": "markdown",
      "source": [
        "Podriamos seguir sumando mas cosas para printear, siguiendo con la misma sintaxis"
      ],
      "metadata": {
        "id": "tTs68Cb1BL9d"
      }
    },
    {
      "cell_type": "markdown",
      "source": [
        "# Ejercicios"
      ],
      "metadata": {
        "id": "fopsDu5xEfTP"
      }
    },
    {
      "cell_type": "markdown",
      "source": [
        "Facil: Escribe un programa en Python que calcule la suma de todos los números en una lista dada. Debes definir una lista de números y utilizar un bucle para recorrer la lista y calcular la suma. Luego, muestra el resultado de la suma en la pantalla."
      ],
      "metadata": {
        "id": "7FGFWc8NpAcj"
      }
    },
    {
      "cell_type": "code",
      "source": [
        "# Escribe tu codigo aca"
      ],
      "metadata": {
        "id": "JJl2XwqMpBnv"
      },
      "execution_count": null,
      "outputs": []
    },
    {
      "cell_type": "markdown",
      "source": [
        "Intermedio: Crea un programa en Python que cuente la frecuencia de cada elemento en una lista dada. Debes definir una lista de elementos y utilizar un bucle para iterar a través de la lista, contando cuántas veces aparece cada elemento. Luego, muestra la frecuencia de cada elemento en la pantalla."
      ],
      "metadata": {
        "id": "8YBi_bMVpGK4"
      }
    },
    {
      "cell_type": "code",
      "source": [
        "# Escribe tu codigo aca"
      ],
      "metadata": {
        "id": "4Vx_BIbhpIYQ"
      },
      "execution_count": null,
      "outputs": []
    },
    {
      "cell_type": "markdown",
      "source": [
        "Dificil: Escribe un programa en Python que filtre los números pares de una lista de números. Debes definir una lista de números y utilizar un bucle para recorrer la lista, identificando y almacenando los números pares en una nueva lista. Finalmente, muestra la lista de números pares en la pantalla."
      ],
      "metadata": {
        "id": "X0F_cs2WpKwC"
      }
    },
    {
      "cell_type": "code",
      "source": [
        "# Escribe tu codigo aca"
      ],
      "metadata": {
        "id": "NqNvqA3gpOXU"
      },
      "execution_count": null,
      "outputs": []
    }
  ]
}